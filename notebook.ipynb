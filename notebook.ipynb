{
 "cells": [
  {
   "cell_type": "markdown",
   "metadata": {},
   "source": [
    "# Include libs"
   ]
  },
  {
   "cell_type": "code",
   "execution_count": 1,
   "metadata": {},
   "outputs": [],
   "source": [
    "import pandas as pd\n",
    "import numpy as np\n",
    "import matplotlib.pyplot as plt\n",
    "import seaborn as sns\n",
    "from sklearn.model_selection import train_test_split\n",
    "from sklearn.impute import SimpleImputer\n",
    "from sklearn.preprocessing import StandardScaler\n",
    "from sklearn.ensemble import RandomForestClassifier\n",
    "from sklearn.tree import DecisionTreeClassifier\n",
    "from sklearn.metrics import roc_auc_score, roc_curve"
   ]
  },
  {
   "cell_type": "markdown",
   "metadata": {},
   "source": [
    "# set pandas preferences for output"
   ]
  },
  {
   "cell_type": "code",
   "execution_count": 66,
   "metadata": {},
   "outputs": [],
   "source": [
    "# Set interactive output options\n",
    "# to see all of the output\n",
    "from IPython.core.interactiveshell import InteractiveShell\n",
    "from IPython.display import display\n",
    "InteractiveShell.ast_node_interactivity = \"all\"\n",
    "pd.options.display.max_columns = None\n",
    "pd.options.display.max_rows = None\n",
    "# press 'o' to hyde cell output"
   ]
  },
  {
   "cell_type": "markdown",
   "metadata": {},
   "source": [
    "# Get data"
   ]
  },
  {
   "cell_type": "code",
   "execution_count": 2,
   "metadata": {},
   "outputs": [
    {
     "name": "stderr",
     "output_type": "stream",
     "text": [
      "/var/folders/sv/tvszn8qx11ngcrsl6yd8t3c80000gp/T/ipykernel_65407/3483327915.py:3: DtypeWarning: Columns (21) have mixed types. Specify dtype option on import or set low_memory=False.\n",
      "  application = pd.read_csv(parent_dir + 'application_train.csv')\n"
     ]
    }
   ],
   "source": [
    "parent_dir = \"./data/\"\n",
    "\n",
    "application = pd.read_csv(parent_dir + 'application_train.csv')\n",
    "# bureau = pd.read_csv(parent_dir + 'bureau.csv')\n",
    "# credit_card_balance = pd.read_csv(parent_dir + 'credit_card_balance.csv')"
   ]
  },
  {
   "cell_type": "code",
   "execution_count": 3,
   "metadata": {},
   "outputs": [
    {
     "data": {
      "text/plain": [
       "(307511, 122)"
      ]
     },
     "execution_count": 3,
     "metadata": {},
     "output_type": "execute_result"
    }
   ],
   "source": [
    "target_col = 'TARGET'\n",
    "\n",
    "application.shape"
   ]
  },
  {
   "cell_type": "markdown",
   "metadata": {},
   "source": [
    "# Show info"
   ]
  },
  {
   "cell_type": "code",
   "execution_count": null,
   "metadata": {},
   "outputs": [],
   "source": [
    "print(\"Application Train Summary:\\n\", application.info())\n",
    "# print(\"Bureau Summary:\\n\", bureau.info())\n",
    "# print(\"Credit Card Balance Summary:\\n\", credit_card_balance.info())\n",
    "application.summary()"
   ]
  },
  {
   "cell_type": "code",
   "execution_count": 68,
   "metadata": {},
   "outputs": [
    {
     "name": "stdout",
     "output_type": "stream",
     "text": [
      "0.08781828601345662\n"
     ]
    },
    {
     "data": {
      "text/plain": [
       "<Figure size 600x400 with 0 Axes>"
      ]
     },
     "execution_count": 68,
     "metadata": {},
     "output_type": "execute_result"
    },
    {
     "data": {
      "text/plain": [
       "<Axes: xlabel='TARGET'>"
      ]
     },
     "execution_count": 68,
     "metadata": {},
     "output_type": "execute_result"
    },
    {
     "data": {
      "text/plain": [
       "Text(0.5, 1.0, 'Target Distribution')"
      ]
     },
     "execution_count": 68,
     "metadata": {},
     "output_type": "execute_result"
    },
    {
     "data": {
      "text/plain": [
       "Text(0.5, 0, 'Default (1) or Not (0)')"
      ]
     },
     "execution_count": 68,
     "metadata": {},
     "output_type": "execute_result"
    },
    {
     "data": {
      "text/plain": [
       "Text(0, 0.5, 'Count')"
      ]
     },
     "execution_count": 68,
     "metadata": {},
     "output_type": "execute_result"
    },
    {
     "data": {
      "image/png": "[encoded data removed]",
      "text/plain": [
       "<Figure size 600x400 with 1 Axes>"
      ]
     },
     "metadata": {},
     "output_type": "display_data"
    }
   ],
   "source": [
    "target_dist = application['TARGET'].value_counts(ascending=True)\n",
    "target_probability = print(target_dist[1] / target_dist[0])\n",
    "plt.figure(figsize=(6, 4))\n",
    "target_dist.plot(kind='bar', color=['blue', 'orange'])\n",
    "plt.title('Target Distribution')\n",
    "plt.xlabel('Default (1) or Not (0)')\n",
    "plt.ylabel('Count')\n",
    "plt.show()"
   ]
  },
  {
   "cell_type": "code",
   "execution_count": null,
   "metadata": {},
   "outputs": [],
   "source": [
    "missing_values = application.isnull().sum().sort_values(ascending=False)\n",
    "print(len(application))\n",
    "print(\"Missing Values in Application:\\n\", missing_values[missing_values > 0])\n"
   ]
  },
  {
   "cell_type": "code",
   "execution_count": null,
   "metadata": {},
   "outputs": [],
   "source": [
    "numeric_columns = application.select_dtypes(include=['float64', 'int64'])\n",
    "# correlations = numeric_columns.corr()['TARGET'].sort_values()\n",
    "# print(\"Correlation with TARGET:\\n\", correlations.tail(10))\n",
    "print(numeric_columns.columns.size)\n",
    "print(numeric_columns)"
   ]
  },
  {
   "cell_type": "code",
   "execution_count": null,
   "metadata": {},
   "outputs": [],
   "source": [
    "# get list of categorial features\n",
    "cols = application.columns\n",
    "continuous_features = []\n",
    "for column in cols:\n",
    "    if application[column].nunique() > 100:\n",
    "        continuous_features.append(column)\n",
    "\n",
    "print(continuous_features)\n",
    "print(len(continuous_features))\n",
    "# get list of numeric features\n",
    "# floatFeatures = application.select_dtypes(include='float64').columns\n",
    "\n",
    "# integerFeatures = application.select_dtypes(include='int64').columns\n",
    "\n",
    "# for column in integerFeatures:\n",
    "#     if column in nonFloatTypes: # categorial\n",
    "#         integerFeatures = integerFeatures.delete(integerFeatures.get_loc(column))\n",
    "# print(integerFeatures)"
   ]
  },
  {
   "cell_type": "markdown",
   "metadata": {},
   "source": [
    "## Построение бокс - графиков для проверки выбросов"
   ]
  },
  {
   "cell_type": "code",
   "execution_count": 8,
   "metadata": {},
   "outputs": [
    {
     "ename": "NameError",
     "evalue": "name 'continuous_features' is not defined",
     "output_type": "error",
     "traceback": [
      "\u001b[31m---------------------------------------------------------------------------\u001b[39m",
      "\u001b[31mNameError\u001b[39m                                 Traceback (most recent call last)",
      "\u001b[36mCell\u001b[39m\u001b[36m \u001b[39m\u001b[32mIn[8]\u001b[39m\u001b[32m, line 54\u001b[39m\n\u001b[32m     51\u001b[39m     plt.tight_layout()\n\u001b[32m     52\u001b[39m     plt.show()\n\u001b[32m---> \u001b[39m\u001b[32m54\u001b[39m BoxPlotColumns(application, \u001b[43mcontinuous_features\u001b[49m)\n",
      "\u001b[31mNameError\u001b[39m: name 'continuous_features' is not defined"
     ]
    }
   ],
   "source": [
    "def BoxPlotColumns(data, columns):\n",
    "# Создание подграфиков\n",
    "\tnum_features = len(columns)\n",
    "\tnum_cols = int(np.ceil(np.sqrt(num_features)))\n",
    "\n",
    "\t# num_cols = 10  # Количество колонок в сетке\n",
    "\tnum_rows = int(np.ceil(num_features / num_cols))  # Количество строк\n",
    "\n",
    "\t# Создание подграфиков\n",
    "\tfig, axes = plt.subplots(nrows=num_rows, ncols=num_cols, figsize=(5 * num_cols, 4 * num_rows))\n",
    "\t# fig, axes = plt.subplots(nrows=1, ncols=num_features, figsize=(5 * num_features, 4))\n",
    "\n",
    "\t# Построение boxplot для каждой колонки\n",
    "\tindex = 0\n",
    "\tfor ax_arr in axes:\n",
    "\t\tfor ax, column in zip(ax_arr, columns[index: index + num_rows]):\n",
    "\t\t\tg = sns.boxplot(y=data[column], ax=ax)\n",
    "\t\t\t# var = g.set_xticklabels(g.get_xticklabels(), rotation=90)\n",
    "\t\t\tax.set_title(f'Boxplot for {column}')\n",
    "\t\t\tax.set_ylabel(column)\n",
    "\t\tindex = index + num_rows\n",
    "\n",
    "\t# Показать графики\n",
    "\tplt.tight_layout()\n",
    "\tplt.show()\n",
    " \n",
    " \n",
    "def plot_histograms(application, columns):\n",
    "    # Выбор числовых данных\n",
    "    \n",
    "    # Количество признаков\n",
    "    num_features = len(columns)\n",
    "    num_cols = int(np.ceil(np.sqrt(num_features)))  # Количество колонок в сетке\n",
    "    num_rows = int(np.ceil(num_features / num_cols))  # Количество строк\n",
    "    # Создание подграфиков\n",
    "    fig, axes = plt.subplots(nrows=num_rows, ncols=num_cols, figsize=(5 * num_cols, 4 * num_rows))\n",
    "    # Построение гистограммы для каждой колонки\n",
    "    index = 0\n",
    "    for ax_arr in axes:\n",
    "        for ax, column in zip(ax_arr, columns[index: index + num_rows]):\n",
    "            # Построение гистограммы\n",
    "            sns.histplot(application[column], ax=ax, bins=20, kde=True, color='blue', alpha=0.7)\n",
    "            ax.set_title(f'Histogram for {column}')\n",
    "            ax.set_xlabel(column)\n",
    "            ax.set_ylabel('Frequency')\n",
    "        index = index + num_rows\n",
    "    # Удаление пустых подграфиков, если они есть\n",
    "    for j in range(index, num_rows * num_cols):\n",
    "        fig.delaxes(axes.flatten()[j])\n",
    "    # Показать графики\n",
    "    plt.tight_layout()\n",
    "    plt.show()\n",
    "\n",
    "BoxPlotColumns(application, continuous_features)"
   ]
  },
  {
   "cell_type": "markdown",
   "metadata": {},
   "source": [
    "# Предобработка данных (удаление / заполнение пропусков, кодировка категориальных признаков)"
   ]
  },
  {
   "cell_type": "code",
   "execution_count": 9,
   "metadata": {},
   "outputs": [
    {
     "name": "stdout",
     "output_type": "stream",
     "text": [
      "Index(['OWN_CAR_AGE', 'EXT_SOURCE_1', 'APARTMENTS_AVG', 'BASEMENTAREA_AVG',\n",
      "       'YEARS_BUILD_AVG', 'COMMONAREA_AVG', 'ELEVATORS_AVG', 'ENTRANCES_AVG',\n",
      "       'FLOORSMIN_AVG', 'LANDAREA_AVG', 'LIVINGAPARTMENTS_AVG',\n",
      "       'LIVINGAREA_AVG', 'NONLIVINGAPARTMENTS_AVG', 'NONLIVINGAREA_AVG',\n",
      "       'APARTMENTS_MODE', 'BASEMENTAREA_MODE', 'YEARS_BUILD_MODE',\n",
      "       'COMMONAREA_MODE', 'ELEVATORS_MODE', 'ENTRANCES_MODE', 'FLOORSMIN_MODE',\n",
      "       'LANDAREA_MODE', 'LIVINGAPARTMENTS_MODE', 'LIVINGAREA_MODE',\n",
      "       'NONLIVINGAPARTMENTS_MODE', 'NONLIVINGAREA_MODE', 'APARTMENTS_MEDI',\n",
      "       'BASEMENTAREA_MEDI', 'YEARS_BUILD_MEDI', 'COMMONAREA_MEDI',\n",
      "       'ELEVATORS_MEDI', 'ENTRANCES_MEDI', 'FLOORSMIN_MEDI', 'LANDAREA_MEDI',\n",
      "       'LIVINGAPARTMENTS_MEDI', 'LIVINGAREA_MEDI', 'NONLIVINGAPARTMENTS_MEDI',\n",
      "       'NONLIVINGAREA_MEDI', 'FONDKAPREMONT_MODE', 'HOUSETYPE_MODE',\n",
      "       'WALLSMATERIAL_MODE'],\n",
      "      dtype='object')\n"
     ]
    }
   ],
   "source": [
    "## удаляем признаки с числом пропущенных значений больше 50%\n",
    "threshold = 0.5\n",
    "missing_ratio = application.isnull().sum() / len(application)\n",
    "columns_to_drop = missing_ratio[missing_ratio > threshold].index\n",
    "application = application.drop(columns=columns_to_drop, axis=1)\n",
    "print(columns_to_drop)"
   ]
  },
  {
   "cell_type": "code",
   "execution_count": 10,
   "metadata": {},
   "outputs": [],
   "source": [
    "# разделяем столбцы на числовые и нечисловые данные\n",
    "numeric_data = application.select_dtypes(include=['float64', 'int64'])\n",
    "non_numeric_data = application.select_dtypes(exclude=['float64', 'int64'])"
   ]
  },
  {
   "cell_type": "code",
   "execution_count": 11,
   "metadata": {},
   "outputs": [],
   "source": [
    "# для числовых данных заменяем пропущенные значения на медиану столбца\n",
    "imputer_numeric = SimpleImputer(strategy='median')\n",
    "numeric_data_imputed = pd.DataFrame(imputer_numeric.fit_transform(numeric_data), columns=numeric_data.columns)\n",
    "\n",
    "# заменяет пропущенные значения в нечисловых столбцах на наиболее часто встречаемое\n",
    "imputer_non_numeric = SimpleImputer(strategy='most_frequent')\n",
    "non_numeric_data_imputed = pd.DataFrame(imputer_non_numeric.fit_transform(non_numeric_data), columns=non_numeric_data.columns)\n",
    "\n",
    "application_imputed = pd.concat([numeric_data_imputed, non_numeric_data_imputed], axis=1)\n"
   ]
  },
  {
   "cell_type": "code",
   "execution_count": null,
   "metadata": {},
   "outputs": [],
   "source": [
    "# BoxPlotColumns(numeric_data_imputed, numeric_data.columns)\n",
    "# plot_histograms(numeric_data_imputed, numeric_data.columns)"
   ]
  },
  {
   "cell_type": "code",
   "execution_count": 12,
   "metadata": {},
   "outputs": [],
   "source": [
    "# для каждого категориального признака сопоставляет колонки\n",
    "# feature_main (values in column) = feature1 (value 1[0, 1]) feature2 (value 2[0 ,1]) ...\n",
    "# может возникнуть проблема с потерей информации при кодировании, смотреть отдельно для каждого признака\n",
    "# использовать для таких признаков более точные кодировки (типа бинари)\n",
    "categorical_columns = application_imputed.select_dtypes(include=['object']).columns\n",
    "application_imputed = pd.get_dummies(application_imputed, columns=categorical_columns, drop_first=True)\n",
    "\n",
    "after_merge_imputer = SimpleImputer(strategy='median')\n",
    "application_final = pd.DataFrame(\n",
    "    after_merge_imputer.fit_transform(application_imputed),\n",
    "    columns=application_imputed.columns\n",
    ")"
   ]
  },
  {
   "cell_type": "code",
   "execution_count": null,
   "metadata": {},
   "outputs": [],
   "source": [
    "from diplom_project.models.logistic_reg import *\n",
    "logistic_regression_fit_predict(application_final, 'TARGET', 0.2, threshold=0.2)"
   ]
  },
  {
   "cell_type": "code",
   "execution_count": null,
   "metadata": {},
   "outputs": [],
   "source": [
    "from diplom_project.transformers.numeric import handle_outliers, fill_numeric_missing\n",
    "from diplom_project.transformers.categorial import one_hot_encode_columns, impute_with_mode\n",
    "\n",
    "application_final, _ = handle_outliers(application_final, columns=numeric_data.drop(columns='TARGET').columns, method='iqr', strategy='transform')"
   ]
  },
  {
   "cell_type": "code",
   "execution_count": null,
   "metadata": {},
   "outputs": [],
   "source": [
    "def calculate_outliers_variance(data: pd.Series, threshold):\n",
    "    q1 = data.quantile(0.25)\n",
    "    q3 = data.quantile(0.75)\n",
    "    iqr_range = q3 - q1\n",
    "    lower_bound = q1 - threshold * iqr_range\n",
    "    upper_bound = q3 + threshold * iqr_range\n",
    "    outliers_mask = (data < lower_bound) | (data > upper_bound)\n",
    "    new_series = data[outliers_mask].copy()\n",
    "    return new_series.var()"
   ]
  },
  {
   "cell_type": "code",
   "execution_count": null,
   "metadata": {},
   "outputs": [],
   "source": [
    "from matplotlib import pyplot as plt\n",
    "\n",
    "data = application_final[\"EXT_SOURCE_3\"]\n",
    "\n",
    "q1 = data.quantile(0.25)\n",
    "q3 = data.quantile(0.75)\n",
    "iqr_range = q3 - q1\n",
    "lower_bound = q1 - threshold * iqr_range\n",
    "upper_bound = q3 + threshold * iqr_range\n",
    "outliers_mask = (data < lower_bound) | (data > upper_bound)\n",
    "new_series = data[outliers_mask].copy()\n",
    "\n",
    "plt.plot(data=new_series)"
   ]
  },
  {
   "cell_type": "markdown",
   "metadata": {},
   "source": [
    "# Некоторые методы фильтрации данных"
   ]
  },
  {
   "cell_type": "markdown",
   "metadata": {},
   "source": [
    "## Pearson Kendall spearman corrs"
   ]
  },
  {
   "cell_type": "markdown",
   "metadata": {},
   "source": [
    "### pearson"
   ]
  },
  {
   "cell_type": "code",
   "execution_count": null,
   "metadata": {},
   "outputs": [],
   "source": [
    "# коэффицент пирсона следует использовать на непрерывных данных\n",
    "\n",
    "correlation_ps = application_final.corr(method = 'pearson') # method = pearson or spearman or kendall\n",
    "# print(correlation[target_col].abs().sort_values(ascending=False))\n",
    "\n"
   ]
  },
  {
   "cell_type": "code",
   "execution_count": null,
   "metadata": {},
   "outputs": [],
   "source": [
    "corr_tg_abs_ps =  correlation_ps[target_col].abs()\n",
    "\n",
    "print(\"Mean correlation: \",corr_tg_abs_ps.mean())\n",
    "print(\"quantile 0.25: \",corr_tg_abs_ps.quantile(0.25))\n",
    "print(\"quantile 0.4: \",corr_tg_abs_ps.quantile(0.4))\n",
    "print(\"quantile 0.5: \",corr_tg_abs_ps.quantile(0.5))\n",
    "print(\"quantile 0.6: \",corr_tg_abs_ps.quantile(0.6))\n",
    "print(\"quantile 0.75: \",corr_tg_abs_ps.quantile(0.75))\n",
    "\n",
    "corr_tg_abs_ps.sort_values(ascending=False).head(11)\n",
    "\n"
   ]
  },
  {
   "cell_type": "code",
   "execution_count": null,
   "metadata": {},
   "outputs": [],
   "source": [
    "corr_tg_abs_ps.sort_values(ascending=False)"
   ]
  },
  {
   "cell_type": "markdown",
   "metadata": {},
   "source": [
    "### t-student linear regression model"
   ]
  },
  {
   "cell_type": "code",
   "execution_count": null,
   "metadata": {},
   "outputs": [],
   "source": [
    "import scipy.stats as st \n",
    "# проверка на отбранных колонках\n",
    "\n",
    "# return index of result series\n",
    "def get_columns_percentile(data: pd.Series, percentile :float):\n",
    "    s = data.ge(data.quantile(percentile))\n",
    "    # boolean indexing\n",
    "    return s[s].index\n",
    "\n",
    "# calculates t-value for given features and returns list with elems \n",
    "def get_important_features(data: pd.Series, alpha = 0.05):\n",
    "    n = data.size\n",
    "    df = n - 2\n",
    "    critical_value = st.t.ppf(1 - alpha, df)\n",
    "    t = [abs(r) * np.sqrt(n - 2)*np.sqrt(1 - r*r) for r in data]\n",
    "    new_series = pd.Series(t, index = data.index)\n",
    "    # print(\"critical_value: \", critical_value)\n",
    "    return new_series.ge(critical_value)\n",
    "    # return new_series\n",
    "    "
   ]
  },
  {
   "cell_type": "code",
   "execution_count": null,
   "metadata": {},
   "outputs": [],
   "source": [
    "from sklearn.linear_model import LinearRegression\n",
    "from sklearn.linear_model import LogisticRegression\n",
    "from sklearn.metrics import accuracy_score, precision_score, recall_score, f1_score, roc_auc_score, confusion_matrix\n",
    "from sklearn.metrics import root_mean_squared_error\n",
    "\n",
    "def custom_predict(X, threshold, model):\n",
    "    probs = model.predict_proba(X) \n",
    "    return (probs[:, 1] > threshold).astype(int)\n",
    "\n",
    "def LinearByStudentImportancy(df, corr = corr_tg_abs_ps, alpha = 0.05, penalty='l2'):\n",
    "    \"\"\"penalty: Literal['l1', 'l2', 'elasticnet'] | None = \"l2\",\"\"\"\n",
    "    \n",
    "    imp_f = get_important_features(corr, alpha=alpha)\n",
    "    \n",
    "    \n",
    "    columns = [i for i in df.columns if i in imp_f[imp_f]]\n",
    "    # print (columns)\n",
    "    \n",
    "    X = df[columns]\n",
    "    y = df['TARGET']\n",
    "    X_train, X_test, y_train, y_test = train_test_split(X, y, test_size=0.2, random_state=42)\n",
    "\n",
    "\t# стандартизирует диапазон входных данных\n",
    "    scaler = StandardScaler()\n",
    "    X_train_scaled = scaler.fit_transform(X_train)\n",
    "    X_test_scaled = scaler.transform(X_test)\n",
    "\n",
    "    model = LogisticRegression(penalty = penalty)\n",
    "    model.fit(X_train_scaled, y_train)\n",
    "    \n",
    "    # predictions = model.predict(X_test_scaled)\n",
    "    predictions = custom_predict(X_test_scaled, 0.18, model=model)\n",
    "    # print(predictions)\n",
    "\t# predictions = model.score(X_test_scaled)\n",
    "    y_proba = model.predict_proba(X_test_scaled)[: ,1]\n",
    "    auc = roc_auc_score(y_test, model.predict_proba(X_test_scaled)[: ,1])\n",
    "    print(\"features selected: {0}, alpha: {1}\".format(len(columns), alpha))\n",
    "    print(\"Метрики качества модели:\")\n",
    "    print(f\"Accuracy: {accuracy_score(y_test, predictions):.4f}\")\n",
    "    print(f\"Precision: {precision_score(y_test, predictions):.4f}\")\n",
    "    print(f\"Recall: {recall_score(y_test, predictions):.4f}\")\n",
    "    print(f\"F1-score: {f1_score(y_test, predictions):.4f}\")\n",
    "    print(f\"ROC-AUC: {roc_auc_score(y_test, y_proba):.4f}\")\n",
    "    print(f\"rmse: {root_mean_squared_error(y_test, y_proba):.4f}\")\n",
    "    print(\"\\nМатрица ошибок:\")\n",
    "    print(\"tn    fn\\ntp     fp:\")\n",
    "    print(confusion_matrix(y_test, predictions))    \n",
    "    print(\"AUC Score:\", auc)\n",
    "    \n"
   ]
  },
  {
   "cell_type": "code",
   "execution_count": null,
   "metadata": {},
   "outputs": [],
   "source": [
    "corr_tg_abs_ps =  correlation_ps[target_col]\n",
    "# print(corr_tg_abs_ps)\n",
    "\n",
    "LinearByStudentImportancy(corr = corr_tg_abs_ps, alpha=0.05)\n",
    "LinearByStudentImportancy(corr = corr_tg_abs_ps, alpha=0.1)\n",
    "LinearByStudentImportancy(corr = corr_tg_abs_ps, alpha=0.2)\n",
    "LinearByStudentImportancy(corr = corr_tg_abs_ps, alpha=0.3)\n",
    "LinearByStudentImportancy(corr = corr_tg_abs_ps, alpha=0.4)\n",
    "LinearByStudentImportancy(corr = corr_tg_abs_ps, alpha=0.45)"
   ]
  },
  {
   "cell_type": "markdown",
   "metadata": {},
   "source": [
    "### analize pearson correlation results"
   ]
  },
  {
   "cell_type": "code",
   "execution_count": null,
   "metadata": {},
   "outputs": [],
   "source": [
    "imp_f = get_important_features(corr_tg_abs_ps, alpha = 0.45)\n",
    "columns = [i for i in application_final.columns if i in imp_f[imp_f]]\n",
    "print(columns)"
   ]
  },
  {
   "cell_type": "code",
   "execution_count": null,
   "metadata": {},
   "outputs": [],
   "source": [
    "import scipy.stats as st\n",
    "\n",
    "normal = 0\n",
    "\n",
    "for col in columns:\n",
    "    res = st.normaltest(application_final[col])\n",
    "    alpha = 0.05\n",
    "    print(res.pvalue, col, len(application_final[col].unique()))\n",
    "    if res.pvalue > alpha:\n",
    "        normal+=1\n",
    "\t\n",
    "print(\"Нормально распределенных признаков: {0}\".format(normal))"
   ]
  },
  {
   "cell_type": "code",
   "execution_count": null,
   "metadata": {},
   "outputs": [],
   "source": [
    "\n",
    "\n",
    "# plot_histograms(application_final, columns)\n",
    "# BoxPlotColumns(application_final, columns=columns)\n"
   ]
  },
  {
   "cell_type": "markdown",
   "metadata": {},
   "source": [
    "### spearman"
   ]
  },
  {
   "cell_type": "code",
   "execution_count": null,
   "metadata": {},
   "outputs": [],
   "source": [
    "correlation_sm = application_final.corr(method = 'spearman') # method = pearson or spearman or kendall\n",
    "print(correlation_sm[target_col].abs().sort_values(ascending=False))"
   ]
  },
  {
   "cell_type": "code",
   "execution_count": null,
   "metadata": {},
   "outputs": [],
   "source": [
    "corr_tg_abs_sm =  correlation_sm[target_col]\n",
    "# corr_tg_abs = correlation.abs()\n",
    "# corr_tg_abs_ps =  correlation_ps[target_col].abs().sort_values(ascending=False)\n",
    "\n",
    "get_important_features(corr_tg_abs_sm, alpha=0.45)\n",
    "\n",
    "LinearByStudentImportancy(corr = corr_tg_abs_sm, alpha=0.05)\n",
    "LinearByStudentImportancy(corr = corr_tg_abs_sm, alpha=0.1)\n",
    "LinearByStudentImportancy(corr = corr_tg_abs_sm, alpha=0.2)\n",
    "LinearByStudentImportancy(corr = corr_tg_abs_sm, alpha=0.3)\n",
    "LinearByStudentImportancy(corr = corr_tg_abs_sm, alpha=0.4)\n",
    "LinearByStudentImportancy(corr = corr_tg_abs_sm, alpha=0.45)"
   ]
  },
  {
   "cell_type": "code",
   "execution_count": null,
   "metadata": {},
   "outputs": [],
   "source": [
    "corr_tg_abs.sort_values(ascending=False)\n",
    "# name_education_type\n",
    "# количество признаков, точность\n",
    "# "
   ]
  },
  {
   "cell_type": "markdown",
   "metadata": {},
   "source": [
    "### Сравнение Пирсона и Спирмена"
   ]
  },
  {
   "cell_type": "code",
   "execution_count": null,
   "metadata": {},
   "outputs": [],
   "source": [
    "ft_sm = get_important_features(corr_tg_abs_sm, alpha=0.45)\n",
    "ft_ps = get_important_features(corr_tg_abs_ps, alpha=0.3)\n",
    "\n",
    "ft_sm = [i for i in application_final.columns if i in ft_sm[ft_sm]]\n",
    "ft_ps = [i for i in application_final.columns if i in ft_ps[ft_ps]]\n",
    "\n",
    "\n",
    "# list(ft_sm)\n",
    "sm_ps = [feature for feature in ft_sm if feature not in ft_ps]\n",
    "ps_sm = [feature for feature in ft_ps if feature not in ft_sm]\n",
    "print(sm_ps)\n",
    "print(ps_sm)\n",
    "application_final[ps_sm].hist(figsize=(6, 6))"
   ]
  },
  {
   "cell_type": "markdown",
   "metadata": {},
   "source": [
    "### linear all features"
   ]
  },
  {
   "cell_type": "code",
   "execution_count": null,
   "metadata": {},
   "outputs": [],
   "source": [
    "X = application_final.drop(columns= ['SK_ID_CURR', 'TARGET'])\n",
    "y = application_final['TARGET']\n",
    "X_train, X_test, y_train, y_test = train_test_split(X, y, test_size=0.2, random_state=42)\n",
    "\n",
    "\t# стандартизирует диапазон входных данных\n",
    "scaler = StandardScaler()\n",
    "X_train_scaled = scaler.fit_transform(X_train)\n",
    "X_test_scaled = scaler.transform(X_test)\n",
    "\n",
    "model = LogisticRegression(max_iter=1000, solver='newton-cg')\n",
    "model.fit(X_train_scaled, y_train)\n",
    "    \n",
    "predictions = model.predict(X_test_scaled)\n",
    "print(predictions)\n",
    "\t# predictions = model.score(X_test_scaled)\n",
    "auc = roc_auc_score(y_test, predictions)\n",
    "print(\"features selected: {0}\".format(len(application_final.columns)))\n",
    "print(\"AUC Score:\", auc)"
   ]
  },
  {
   "cell_type": "markdown",
   "metadata": {},
   "source": [
    "## mutual information"
   ]
  },
  {
   "cell_type": "code",
   "execution_count": null,
   "metadata": {},
   "outputs": [],
   "source": [
    "from sklearn.feature_selection import mutual_info_classif\n",
    "# Предполагаем, что application_final, target_col и другие переменные уже определены\n",
    "X = application_final.drop(columns=target_col)\n",
    "y = application_final[target_col]\n",
    "mi = mutual_info_classif(X, y, discrete_features=True)\n",
    "# Создаем список кортежей (значение взаимной информации, имя колонки)\n",
    "mi_names = list(zip(mi, application_final.columns))\n",
    "# Сортируем список по значениям взаимной информации в порядке убывания\n",
    "mi_names.sort(key=lambda x: x[0], reverse=True)\n",
    "# Выводим отсортированный список\n",
    "for score, name in mi_names:\n",
    "    print(f'Column: {name}, MI: {score}')"
   ]
  },
  {
   "cell_type": "markdown",
   "metadata": {},
   "source": [
    "### RFE жадный алгоритм"
   ]
  },
  {
   "cell_type": "code",
   "execution_count": null,
   "metadata": {},
   "outputs": [],
   "source": [
    "from sklearn.feature_selection import RFE\n",
    "from sklearn.compose import ColumnTransformer\n",
    "from sklearn.linear_model import LogisticRegression\n",
    "\n",
    "n_features_to_select = 1\n",
    "application_final = (rd.data[rd.roles['Numeric'] + rd.roles['Categorial'] + ['TARGET']]).copy()\n",
    "\n",
    "X = application_final.drop(columns=['TARGET'], errors='ignore')\n",
    "y = application_final['TARGET']\n",
    "# X = application_final\n",
    "# y = rd.data['TARGET']\n",
    "X_train, X_test, y_train, y_test = train_test_split(X, y, test_size=0.2, random_state=42)\n",
    "\n",
    "\n",
    "scaler = StandardScaler()\n",
    "X_train_scaled = scaler.fit_transform(X_train)\n",
    "X_test_scaled = scaler.transform(X_test)\n",
    "\n",
    "\n",
    "regressor = LogisticRegression()\n",
    "\n",
    "#===========================================================================\n",
    "# perform a scikit-learn Recursive Feature Elimination (RFE)\n",
    "#===========================================================================\n",
    "from sklearn.feature_selection import RFE\n",
    "# here we want only one final feature, we do this to produce a ranking\n",
    "n_features_to_select = 1\n",
    "rfe = RFE(regressor, n_features_to_select=n_features_to_select)\n",
    "rfe.fit(X_train_scaled, y_train)\n",
    "\n",
    "from operator import itemgetter\n",
    "\n",
    "features = X_train.columns.to_list()\n",
    "for x, y in (sorted(zip(rfe.ranking_ , features), key=itemgetter(0))):\n",
    "    print(x, y)\n"
   ]
  },
  {
   "cell_type": "code",
   "execution_count": null,
   "metadata": {},
   "outputs": [],
   "source": [
    "print(sorted(list(zip(rfe.ranking_, features)), key=itemgetter(0)))\n",
    "rfe_features_sorted = [item[1] for item in sorted(list(zip(rfe.ranking_, features)), key=itemgetter(0))]\n",
    "print(rfe_features_sorted)\n"
   ]
  },
  {
   "cell_type": "code",
   "execution_count": null,
   "metadata": {},
   "outputs": [],
   "source": [
    "from sklearn.metrics import accuracy_score\n",
    "def custom_predict(X, threshold):\n",
    "    probs = model.predict_proba(X) \n",
    "    return (probs[:, 1] > threshold).astype(int)\n",
    "\n",
    "number_of_features = 89\n",
    "X = application_final[rfe_features_sorted[:number_of_features]]\n",
    "y = application_final['TARGET']\n",
    "# y = rd.data['TARGET']\n",
    "X_train, X_test, y_train, y_test = train_test_split(X, y, test_size=0.2, random_state=42)\n",
    "\n",
    "\t# стандартизирует диапазон входных данных\n",
    "scaler = StandardScaler()\n",
    "X_train_scaled = scaler.fit_transform(X_train)\n",
    "X_test_scaled = scaler.transform(X_test)\n",
    "\n",
    "# стандартизирует диапазон входных данных\n",
    "# cols_to_scale = []\n",
    "# for col in rd.roles['Numeric']:\n",
    "#     if col in rfe_features_sorted[:number_of_features]:\n",
    "#         cols_to_scale.append(col)\n",
    "\n",
    "# preprocessor = ColumnTransformer(\n",
    "#     transformers=[\n",
    "#         ('num', StandardScaler(), cols_to_scale),\n",
    "#         ('passthrough', 'passthrough', [col for col in X.columns if col not in cols_to_scale])\n",
    "#     ])\n",
    "\n",
    "# # Применяем трансформацию\n",
    "# X_train_scaled = preprocessor.fit_transform(X_train)\n",
    "# X_test_scaled = preprocessor.transform(X_test)\n",
    "\n",
    "model = LogisticRegression()\n",
    "model.fit(X_train_scaled, y_train)\n",
    "    \n",
    "# threshold_sigmoid = 0.5\n",
    "# lambda_sigmoid =  lambda x: 1 if x > 0.1 else 0\n",
    "predictions = custom_predict(X=X_test_scaled, threshold=0.18)\n",
    "vc = pd.Series(predictions).value_counts()\n",
    "# print(vc[1] / vc[0])\n",
    "# predictions_sigmoid = [lambda_sigmoid(x) for x in predictions]\n",
    "# print([lambda_sigmoid(x) for x in predictions])\n",
    "\t# predictions = model.score(X_test_scaled)\n",
    "# print(accuracy_score(y_test, predictions))\n",
    "auc = roc_auc_score(y_test, model.predict_proba(X_test_scaled)[:, 1])\n",
    "print(\"features selected: {0}\".format(len(X.columns)))\n",
    "print(\"AUC Score:\", auc)"
   ]
  },
  {
   "cell_type": "code",
   "execution_count": null,
   "metadata": {},
   "outputs": [],
   "source": [
    "from sklearn.metrics import confusion_matrix\n",
    "\n",
    "cm = confusion_matrix(y_test, predictions)\n",
    "# TN, FP\n",
    "# FN, TP\n",
    "print(cm)\n",
    "print((cm[1][1]) / (cm[1][1] + cm[1][0]))\n",
    "print(len(y_test), len(predictions))\n",
    "\n"
   ]
  },
  {
   "cell_type": "code",
   "execution_count": null,
   "metadata": {},
   "outputs": [],
   "source": [
    "model.predict(X=X_test_scaled)"
   ]
  },
  {
   "cell_type": "code",
   "execution_count": null,
   "metadata": {},
   "outputs": [],
   "source": [
    "first_22_rfe = rfe_features_sorted[:22]\n",
    "list_f = [feature for feature in first_22_rfe if feature not in ft_ps]\n",
    "list_f\n",
    "application_final[list_f].hist(figsize=(10,10))"
   ]
  },
  {
   "cell_type": "markdown",
   "metadata": {},
   "source": [
    "# Random forest classifier"
   ]
  },
  {
   "cell_type": "code",
   "execution_count": null,
   "metadata": {},
   "outputs": [],
   "source": [
    "\n",
    "\n",
    "X = application_final.drop(columns=['TARGET', 'SK_ID_CURR'])\n",
    "y = application_final['TARGET']\n",
    "X_train, X_test, y_train, y_test = train_test_split(X, y, test_size=0.2, random_state=42)\n",
    "\n",
    "# стандартизирует диапазон входных данных\n",
    "scaler = StandardScaler()\n",
    "X_train_scaled = scaler.fit_transform(X_train)\n",
    "X_test_scaled = scaler.transform(X_test)\n",
    "\n",
    "model = RandomForestClassifier(max_depth=10, min_samples_split=2, min_samples_leaf=2, random_state=42, n_estimators=300)\n",
    "model.fit(X_train_scaled, y_train)\n",
    "\n",
    "\n",
    "predictions = model.predict_proba(X_test_scaled)[:, 1]\n",
    "auc = roc_auc_score(y_test, predictions)\n",
    "print(\"AUC Score:\", auc)\n",
    "\n"
   ]
  },
  {
   "cell_type": "code",
   "execution_count": null,
   "metadata": {},
   "outputs": [],
   "source": [
    "from sklearn.model_selection import RandomizedSearchCV\n",
    "from random import randint\n",
    "param_dist = {\n",
    "    'max_depth': [2, 4, 8, 16],\n",
    "    'min_samples_split': [2, 4, 8, 16],\n",
    "    'min_samples_leaf': [2, 4, 8, 16],\n",
    "    'n_estimators': [100, 200, 300 ,500]\n",
    "}\n",
    "dtree_reg = RandomForestClassifier(random_state=42)\n",
    "random_search = RandomizedSearchCV(dtree_reg, param_distributions=param_dist, \n",
    "                                   n_iter=64, cv=5, random_state=42)\n",
    "random_search.fit(X_train, y_train)\n",
    "best_params_random = random_search.best_params_\n",
    "best_score_random = random_search.best_score_\n",
    "\n",
    "print(f\"Best Parameters (Random Search): {best_params_random}\")\n",
    "print(f\"Best Score (Random Search): {best_score_random}\")"
   ]
  },
  {
   "cell_type": "code",
   "execution_count": null,
   "metadata": {},
   "outputs": [],
   "source": [
    "fpr, tpr, _ = roc_curve(y_test, model.predict_proba(X_test_scaled)[:, 1])\n",
    "plt.figure(figsize=(8, 6))\n",
    "plt.plot(fpr, tpr, label=f'Random Forest (AUC = {auc:.3f})')\n",
    "plt.plot([0, 1], [0, 1], 'k--')\n",
    "plt.title('ROC Curve')\n",
    "plt.xlabel('False Positive Rate')\n",
    "plt.ylabel('True Positive Rate')\n",
    "plt.legend()\n",
    "plt.show()\n",
    "\n"
   ]
  },
  {
   "cell_type": "code",
   "execution_count": null,
   "metadata": {},
   "outputs": [],
   "source": [
    "\n",
    "importances = model.feature_importances_\n",
    "std = np.std([tree.feature_importances_ for tree in model.estimators_], axis=0)\n",
    "\n",
    "\n",
    "\n",
    "forest_importances = pd.Series(importances, index=X_train.columns.values)\n",
    "\n",
    "# plot_data = forest_importances.sort_values(ascending=True).tail(15)\n",
    "\n",
    "# fig, ax = plt.subplots()\n",
    "# plot_data.plot.bar(ax=ax)\n",
    "# ax.set_title(\"Feature importances using MDI\")\n",
    "# ax.set_ylabel(\"Mean decrease in impurity\")\n",
    "# fig.tight_layout(\n",
    "forest_importances.sort_values(ascending=False)\n"
   ]
  },
  {
   "cell_type": "code",
   "execution_count": null,
   "metadata": {},
   "outputs": [],
   "source": [
    "features_n = 70\n",
    "\n",
    "cols_fst = forest_importances[:features_n].index.values\n",
    "cols_rfe = rfe_features_sorted[:features_n]\n",
    "# print(\"fst: \",cols_fst)\n",
    "\n",
    "# list(ft_sm)\n",
    "fst_rfe = [feature for feature in cols_fst if feature not in cols_rfe]\n",
    "# print(\"rfe: \",cols_rfe)\n",
    "# rfe_fst = [feature for feature in ft_ps if feature not in ft_sm]\n",
    "fst_rfe\n",
    "print([feature1 for feature1, feature2 in zip(cols_fst, cols_rfe) if feature1 != feature2])\n",
    "# # print(sm_ps)\n",
    "# # print(ps_sm)\n",
    "# application_final[fst_rfe].hist(figsize=(6, 6))\n",
    "cols_fst"
   ]
  },
  {
   "cell_type": "markdown",
   "metadata": {},
   "source": [
    "# Desicion tree classifier"
   ]
  },
  {
   "cell_type": "code",
   "execution_count": null,
   "metadata": {},
   "outputs": [],
   "source": [
    "from sklearn.tree import DecisionTreeClassifier\n",
    "from sklearn.tree import plot_tree\n",
    "# columns_dt = application_final[rfe_features_sorted[:30]]\n",
    "columns_dt = application_final.drop(columns=['TARGET', 'SK_ID_CURR']).columns\n",
    "X = application_final[columns_dt]\n",
    "\n",
    "\n",
    "y = application_final['TARGET']\n",
    "X_train, X_test, y_train, y_test = train_test_split(X, y, test_size=0.2, random_state=42)\n",
    "\n",
    "# стандартизирует диапазон входных данных\n",
    "scaler = StandardScaler()\n",
    "X_train_scaled = scaler.fit_transform(X_train)\n",
    "X_test_scaled = scaler.transform(X_test)\n",
    "\n",
    "model = DecisionTreeClassifier(max_depth=7, min_samples_split=2, min_samples_leaf=2, random_state=42)\n",
    "model.fit(X_train_scaled, y_train)\n",
    "\n",
    "\n",
    "predictions = model.predict_proba(X_test_scaled)[:, 1]\n",
    "auc = roc_auc_score(y_test, predictions)\n",
    "print(\"AUC Score:\", auc)\n",
    "# plot_tree(decision_tree=model)"
   ]
  },
  {
   "cell_type": "code",
   "execution_count": null,
   "metadata": {},
   "outputs": [],
   "source": [
    "from sklearn.model_selection import RandomizedSearchCV\n",
    "from random import randint\n",
    "param_dist = {\n",
    "    'max_depth': [2, 4, 8, 16],\n",
    "    'min_samples_split': [2, 4, 8, 16],\n",
    "    'min_samples_leaf': [2, 4, 8, 16]\n",
    "}\n",
    "dtree_reg = DecisionTreeClassifier(random_state=42)\n",
    "random_search = RandomizedSearchCV(dtree_reg, param_distributions=param_dist, \n",
    "                                   n_iter=64, cv=5, random_state=42)\n",
    "random_search.fit(X_train, y_train)\n",
    "best_params_random = random_search.best_params_\n",
    "best_score_random = random_search.best_score_\n",
    "\n",
    "print(f\"Best Parameters (Random Search): {best_params_random}\")\n",
    "print(f\"Best Score (Random Search): {best_score_random}\")"
   ]
  },
  {
   "cell_type": "code",
   "execution_count": null,
   "metadata": {},
   "outputs": [],
   "source": [
    "\n",
    "feat_importances = pd.DataFrame(model.feature_importances_,  index=columns_dt, columns=[\"Importance\"])\n",
    "feat_importances.sort_values(by='Importance', ascending=False, inplace=True)\n",
    "# feat_importances.plot(kind='bar', figsize=(8,6))\n",
    "feat_importances[:89]"
   ]
  },
  {
   "cell_type": "markdown",
   "metadata": {},
   "source": [
    "# new res\n"
   ]
  },
  {
   "cell_type": "markdown",
   "metadata": {},
   "source": [
    "## read data"
   ]
  },
  {
   "cell_type": "code",
   "execution_count": 4,
   "metadata": {},
   "outputs": [],
   "source": [
    "method = 'iqr'\n",
    "if method == 'zscore':\n",
    "    threshold = 3\n",
    "if method == 'iqr':\n",
    "    threshold = 1.5\n",
    "strategy = 'transform'\n",
    "\n",
    "outliers_percentage_threshold = 0.15\n",
    "impute = True"
   ]
  },
  {
   "cell_type": "code",
   "execution_count": null,
   "metadata": {},
   "outputs": [
    {
     "ename": "ModuleNotFoundError",
     "evalue": "No module named 'reader'",
     "output_type": "error",
     "traceback": [
      "\u001b[31m---------------------------------------------------------------------------\u001b[39m",
      "\u001b[31mModuleNotFoundError\u001b[39m                       Traceback (most recent call last)",
      "\u001b[36mCell\u001b[39m\u001b[36m \u001b[39m\u001b[32mIn[7]\u001b[39m\u001b[32m, line 1\u001b[39m\n\u001b[32m----> \u001b[39m\u001b[32m1\u001b[39m \u001b[38;5;28;01mfrom\u001b[39;00m\u001b[38;5;250m \u001b[39m\u001b[34;01mreader\u001b[39;00m\u001b[34;01m.\u001b[39;00m\u001b[34;01mreader\u001b[39;00m\u001b[38;5;250m \u001b[39m\u001b[38;5;28;01mimport\u001b[39;00m Reader\n\u001b[32m      2\u001b[39m \u001b[38;5;28;01mfrom\u001b[39;00m\u001b[38;5;250m \u001b[39m\u001b[34;01mdiplom_project\u001b[39;00m\u001b[34;01m.\u001b[39;00m\u001b[34;01mtransformers\u001b[39;00m\u001b[34;01m.\u001b[39;00m\u001b[34;01mnumeric\u001b[39;00m\u001b[38;5;250m \u001b[39m\u001b[38;5;28;01mimport\u001b[39;00m handle_outliers, fill_numeric_missing\n\u001b[32m      3\u001b[39m \u001b[38;5;28;01mfrom\u001b[39;00m\u001b[38;5;250m \u001b[39m\u001b[34;01mdiplom_project\u001b[39;00m\u001b[34;01m.\u001b[39;00m\u001b[34;01mtransformers\u001b[39;00m\u001b[34;01m.\u001b[39;00m\u001b[34;01mcategorial\u001b[39;00m\u001b[38;5;250m \u001b[39m\u001b[38;5;28;01mimport\u001b[39;00m *\n",
      "\u001b[31mModuleNotFoundError\u001b[39m: No module named 'reader'"
     ]
    }
   ],
   "source": [
    "from diplom_project.reader.reader import Reader\n",
    "from diplom_project.transformers.numeric import handle_outliers, fill_numeric_missing\n",
    "from diplom_project.transformers.categorial import *\n",
    "from scipy.stats import zscore, iqr\n",
    "from diplom_project.reader.roles import DropRole\n",
    "\n",
    "rd = Reader(application, target_col='TARGET', id_col='SK_ID_CURR', max_constant_rate=0.995, max_nan_rate=0.45)\n",
    "print(f\"features dropped: {len(rd._get_features_role(DropRole()))}\")\n",
    "print(\"dropped features: \",rd._get_features_role(DropRole()))\n",
    "roles = rd.roles\n",
    "# print(roles)"
   ]
  },
  {
   "cell_type": "code",
   "execution_count": null,
   "metadata": {},
   "outputs": [],
   "source": [
    "print(f\"features dropped: {len(rd._get_features_role(DropRole()))}\")\n",
    "print(\"dropped features: \",rd._get_features_role(DropRole()))"
   ]
  },
  {
   "cell_type": "code",
   "execution_count": null,
   "metadata": {},
   "outputs": [],
   "source": [
    "\n",
    "\n",
    "\n",
    "# method can be zscore or iqr\n",
    "def count_light_extremal_outliers_ratio(data: pd.DataFrame, col, method = 'zscore'):\n",
    "    if method == 'zscore':\n",
    "        z_scores = zscore(data[col])\n",
    "        threshold_light = 3\n",
    "        threshold_extreme = 3.5\n",
    "        outliers_light_n = len(z_scores[(np.abs(z_scores) < threshold_extreme) & (np.abs(z_scores) > threshold_light)])\n",
    "        outliers_extreme_n = len(z_scores[(np.abs(z_scores) > threshold_extreme)])\n",
    "        if outliers_extreme_n == 0:\n",
    "            ratio = 1.5\n",
    "        else:\n",
    "            ratio = outliers_light_n / outliers_extreme_n\n",
    "    elif method == 'iqr':\n",
    "        q1 = data[col].quantile(0.25)\n",
    "        q3 = data[col].quantile(0.75)\n",
    "        iqr_range = q3 - q1\n",
    "        \n",
    "        lower_bound_light = q1 - threshold * iqr_range\n",
    "        upper_bound_light = q3 + 2* threshold * iqr_range\n",
    "        \n",
    "        lower_bound_extreme = q1 - threshold * iqr_range\n",
    "        upper_bound_extreme = q3 + 2*threshold * iqr_range\n",
    "        \n",
    "        outliers_light_mask = data[col].mask(data[col] > lower_bound_extreme and data[col] < lower_bound_light) | (data[col] > upper_bound_light and data[col] < upper_bound_extreme)\n",
    "        outliers_extreme_mask = data[col].mask((data[col] < lower_bound_extreme) | (data[col] > upper_bound_extreme))\n",
    "        \n",
    "        ratio = data[outliers_light_mask] / data[outliers_extreme_mask]\n",
    "    return ratio\n",
    "\n",
    "outliers_stat = {}\n",
    "\n",
    "\n",
    "    \n",
    "\t\n",
    "rd.data = impute_with_mode(df=rd.data, columns=roles['Numeric'], strategy='median')\n",
    "\n",
    "rd.data = impute_with_mode(df=rd.data, columns=roles['Categorial'], strategy='most_frequent')\n",
    "rd.guess_roles()\n",
    "rd.data = one_hot_encode_columns(df=rd.data, columns_to_encode=roles['Categorial'])\n",
    "\n",
    "res = {'transform': [], 'impute': [], 'clip': []}\n",
    "for col in roles[\"Numeric\"]:\n",
    "\n",
    "    outliers_mask = np.zeros(len(rd.data), dtype=bool)\n",
    "    \n",
    "    if method == 'iqr':\n",
    "        q1 = rd.data[col].quantile(0.25)\n",
    "        q3 = rd.data[col].quantile(0.75)\n",
    "        iqr_range = q3 - q1\n",
    "        lower_bound = q1 - threshold * iqr_range\n",
    "        upper_bound = q3 + threshold * iqr_range\n",
    "        outliers_mask = (rd.data[col] < lower_bound) | (rd.data[col] > upper_bound)\n",
    "    else:\n",
    "        z_scores = zscore(rd.data[col])\n",
    "        outliers_mask = np.abs(z_scores) > threshold\n",
    "        \n",
    "    # Считаем количество выбросов в колонке\n",
    "    outliers_count = outliers_mask.sum()\n",
    "    # print(f\"{col}:  {outliers_count}\")\n",
    "\t# Считаем общее количество значений в колонке\n",
    "    total_count = len(rd.data)\n",
    "\t# Вычисляем процент выбросов\n",
    "    outliers_percentage = float(outliers_count) / total_count\n",
    "    outliers_stat[col] = outliers_percentage\n",
    "    \n",
    "    \n",
    "    if outliers_percentage > outliers_percentage_threshold:\n",
    "        strategy = 'transform'\n",
    "    else:\n",
    "        if impute:\n",
    "            strategy = 'impute'\n",
    "        else:\n",
    "            strategy = 'clip'\n",
    "    res[strategy].append(col)\n",
    "\n",
    "# rd.data['DAYS_EMPLOYED'] = rd.data['DAYS_EMPLOYED'].abs()"
   ]
  },
  {
   "cell_type": "code",
   "execution_count": null,
   "metadata": {},
   "outputs": [],
   "source": [
    "# 'clip' - заменяет на граничные значения\n",
    "# 'impute' - заменяет на медиану/среднее\n",
    "# 'transform' - применяет логарифмическое преобразование\n",
    "rd.data, _ = handle_outliers(data=rd.data, columns=roles['Numeric'], method=method, strategy='impute', threshold=threshold)\n",
    "# for key in res.keys():\n",
    "# \trd.data, _ = handle_outliers(data=rd.data, columns=res[key], method=method, strategy=key, threshold=threshold)"
   ]
  },
  {
   "cell_type": "code",
   "execution_count": null,
   "metadata": {},
   "outputs": [],
   "source": [
    "rd.guess_roles()"
   ]
  },
  {
   "cell_type": "code",
   "execution_count": null,
   "metadata": {},
   "outputs": [],
   "source": [
    "from diplom_project.models.logistic_reg import *\n",
    "# print(rd.data.select_dtypes(include='object').columns)\n",
    "\n",
    "_, coefs = logistic_regression_fit_predict_coefs(rd.data[rd.roles['Numeric'] + rd.roles['Categorial'] + ['TARGET']], target_column=rd.target_col, return_model=True,threshold=0.15)"
   ]
  },
  {
   "cell_type": "code",
   "execution_count": null,
   "metadata": {},
   "outputs": [],
   "source": [
    "def calculate_outliers_variance(data: pd.Series, threshold):\n",
    "    q1 = data.quantile(0.25)\n",
    "    q3 = data.quantile(0.75)\n",
    "    iqr_range = q3 - q1\n",
    "    lower_bound = q1 - threshold * iqr_range\n",
    "    upper_bound = q3 + threshold * iqr_range\n",
    "    outliers_mask = (rd.data[col] < lower_bound) | (rd.data[col] > upper_bound)\n",
    "    new_series = data[outliers_mask].copy()\n",
    "    return new_series.var()\n",
    "\n",
    "coefs_numeric = [elem for elem in coefs if elem[0] in rd.roles[\"Numeric\"]]\n",
    "print(coefs_numeric)\n",
    "# cols_to_info = [\"AMT_INCOME_TOTAL\",\"AMT_CREDIT\",\"AMT_ANNUITY\",\"AMT_GOODS_PRICE\",\"REGION_POPULATION_RELATIVE\"\t,\"DAYS_EMPLOYED\"\t\t,\"CNT_FAM_MEMBERS\",\"EXT_SOURCE_3\"]\n",
    "cols_to_info = [elem[0] for elem in coefs if elem[0] in rd.roles[\"Numeric\"]]\n",
    "cols_variance = [calculate_outliers_variance(rd.data[col], threshold) for col in cols_to_info]\n",
    "\n",
    "percents = []\n",
    "for col in cols_to_info:\n",
    "    percents.append(outliers_stat[col])\n",
    "    \n",
    "data_outl = pd.DataFrame(data = [[e[1] for e in coefs_numeric if e[0] in cols_to_info], percents, cols_variance], columns= cols_to_info, index = [\"coef\", \"outliers_percent\", \"var\"])\n",
    "data_outl.to_csv(path_or_buf=\"/Users/Stas/source/diplom/diplom_project/clip.csv\", float_format='%.3f')\n",
    "print(data_outl)\n",
    "\n"
   ]
  },
  {
   "cell_type": "markdown",
   "metadata": {},
   "source": [
    "## other shit"
   ]
  },
  {
   "cell_type": "code",
   "execution_count": null,
   "metadata": {},
   "outputs": [],
   "source": [
    "col = 'AMT_CREDIT'\n",
    "plt.boxplot(rd.data['DAYS_EMPLOYED'])\n",
    "# plt.boxplot(rd.data[col])\n",
    "\n",
    "# rd.data['DAYS_EMPLOYED'].value_counts(ascending=True)"
   ]
  },
  {
   "cell_type": "code",
   "execution_count": null,
   "metadata": {},
   "outputs": [],
   "source": [
    "from diplom_project.ml_selectors.rfe import *\n",
    "rd.guess_roles()\n",
    "df_rd = (rd.data[rd.roles['Numeric'] + rd.roles['Categorial'] + ['TARGET']])\n",
    "estimator = LogisticRegression(random_state=42, max_iter=150)\n",
    "rank_feature = rank_features_with_rfe(df_rd, target_column=rd.target_col, estimator=estimator)\n",
    "\n",
    "features= [item[1] for item in rank_feature]"
   ]
  },
  {
   "cell_type": "code",
   "execution_count": null,
   "metadata": {},
   "outputs": [],
   "source": [
    "from diplom_project.models.logistic_reg import *\n",
    "\n",
    "model = logistic_regression_fit_predict(rd.data[features + [target_col]], target_column=rd.target_col, return_model=True, threshold=0.15)"
   ]
  },
  {
   "cell_type": "code",
   "execution_count": null,
   "metadata": {},
   "outputs": [],
   "source": [
    "for e1, e2 in zip(model.coef_[0], df_rd.columns):\n",
    "    if e2 in roles['Numeric']:\n",
    "    \tprint(e1, e2, outliers_stat[e2])"
   ]
  },
  {
   "cell_type": "code",
   "execution_count": null,
   "metadata": {},
   "outputs": [],
   "source": [
    "\n",
    "print(len(rd.roles['Numeric'] + rd.roles['Categorial']))"
   ]
  },
  {
   "cell_type": "code",
   "execution_count": null,
   "metadata": {},
   "outputs": [],
   "source": [
    "X = rd.data[rd.roles['Numeric'] + rd.roles['Categorial']]\n",
    "y = rd.data[target_col]\n",
    "X_train, X_test, y_train, y_test = train_test_split(X, y, test_size=0.2, random_state=42)\n",
    "\n",
    "        # стандартизирует диапазон входных данных\n",
    "scaler = StandardScaler()\n",
    "X_train_scaled = scaler.fit_transform(X_train)\n",
    "X_test_scaled = scaler.transform(X_test)\n",
    "\n",
    "model = LogisticRegression()\n",
    "model.fit(X_train_scaled, y_train)"
   ]
  },
  {
   "cell_type": "code",
   "execution_count": null,
   "metadata": {},
   "outputs": [],
   "source": [
    "from diplom_project.models.random_forest import *\n",
    "X = rd.data[rd.roles['Numeric'] + rd.roles['Categorial']]\n",
    "y = rd.data[target_col]\n",
    "optimize_random_forest(X=X, y=y,scoring='roc_auc')"
   ]
  },
  {
   "cell_type": "code",
   "execution_count": null,
   "metadata": {},
   "outputs": [],
   "source": [
    "\n",
    "\n",
    "X = rd.data[rd.roles['Numeric'] + rd.roles['Categorial']]\n",
    "y = rd.data[target_col]\n",
    "X_train, X_test, y_train, y_test = train_test_split(X, y, test_size=0.2, random_state=42)\n",
    "\n",
    "# стандартизирует диапазон входных данных\n",
    "scaler = StandardScaler()\n",
    "X_train_scaled = scaler.fit_transform(X_train)\n",
    "X_test_scaled = scaler.transform(X_test)\n",
    "\n",
    "model = RandomForestClassifier(max_depth=14, min_samples_split=3, min_samples_leaf=4, random_state=42, n_estimators=600, class_weight='balanced')\n",
    "model.fit(X_train_scaled, y_train)\n"
   ]
  },
  {
   "cell_type": "code",
   "execution_count": null,
   "metadata": {},
   "outputs": [],
   "source": [
    "\n",
    "\n",
    "predictions = model.predict(X_test_scaled)\n",
    "predic_proba = model.predict_proba(X_test_scaled)[:, 1]\n",
    "\n",
    "print(f\"Accuracy: {accuracy_score(y_test, predictions):.4f}\")\n",
    "print(f\"Precision: {precision_score(y_test, predictions):.4f}\")\n",
    "print(f\"Recall: {recall_score(y_test, predictions):.4f}\")\n",
    "print(f\"F1-score: {f1_score(y_test, predictions):.4f}\")\n",
    "print(f\"ROC-AUC: {roc_auc_score(y_test, predic_proba):.4f}\")"
   ]
  },
  {
   "cell_type": "code",
   "execution_count": null,
   "metadata": {},
   "outputs": [],
   "source": [
    "std = np.std([tree.feature_importances_ for tree in model.estimators_], axis=0)\n",
    "\n",
    "# X = rd.data[rd.roles['Numeric'] + rd.roles['Categorial']]\n",
    "# y = rd.data[target_col]\n",
    "# X_train, X_test, y_train, y_test = train_test_split(X, y, test_size=0.2, random_state=42)\n",
    "\n",
    "forest_importances = pd.Series(model.feature_importances_, index=X_train.columns.values)\n",
    "\n",
    "forest_importances.sort_values(ascending=False)\n",
    "new_cols = forest_importances[:61].index"
   ]
  },
  {
   "cell_type": "code",
   "execution_count": null,
   "metadata": {},
   "outputs": [],
   "source": [
    "from sklearn.model_selection import StratifiedKFold\n",
    "X = rd.data[forest_importances[:70].index]\n",
    "y = rd.data[target_col]\n",
    "X_train, X_test, y_train, y_test = train_test_split(X, y, test_size=0.2, random_state=42)\n",
    "\n",
    "# стандартизирует диапазон входных данных\n",
    "scaler = StandardScaler()\n",
    "X_train_scaled = scaler.fit_transform(X_train)\n",
    "X_test_scaled = scaler.transform(X_test)\n",
    "\n",
    "model = RandomForestClassifier(max_depth=14, min_samples_split=3, min_samples_leaf=4, random_state=42, n_estimators=600)\n",
    "model.fit(X_train_scaled, y_train)\n",
    "\n",
    "# skf = StratifiedKFold(n_splits=5, shuffle=True, random_state=42)\n",
    "# cv_scores = cross_val_score(model, X_train_scaled, y_train, cv=skf, scoring='roc_auc')\n",
    "\n",
    "\n",
    "predictions = model.predict_proba(X_test_scaled)[:, 1]\n",
    "auc = roc_auc_score(y_test, predictions)\n",
    "# print(f\"Средняя точность: {cv_scores.mean():.4f} ± {cv_scores.std():.4f}\")"
   ]
  },
  {
   "cell_type": "code",
   "execution_count": null,
   "metadata": {},
   "outputs": [],
   "source": [
    "print(f\"Средняя точность: {cv_scores.mean():.4f} ± {cv_scores.std():.4f}\")"
   ]
  },
  {
   "cell_type": "code",
   "execution_count": null,
   "metadata": {},
   "outputs": [],
   "source": [
    "print(auc)"
   ]
  },
  {
   "cell_type": "code",
   "execution_count": null,
   "metadata": {},
   "outputs": [],
   "source": [
    "correlation_ps = rd.data[rd.roles['Numeric'] + rd.roles['Categorial'] + [rd.target_col]].corr(method = 'pearson')\n",
    "corr_tg_abs_ps =  correlation_ps[rd.target_col]\n",
    "# print(corr_tg_abs_ps)\n",
    "\n",
    "LinearByStudentImportancy(corr = corr_tg_abs_ps, alpha=0.05, df = rd.data)\n",
    "LinearByStudentImportancy(corr = corr_tg_abs_ps, alpha=0.1, df = rd.data)\n",
    "LinearByStudentImportancy(corr = corr_tg_abs_ps, alpha=0.2, df = rd.data)\n",
    "LinearByStudentImportancy(corr = corr_tg_abs_ps, alpha=0.3, df = rd.data)\n",
    "LinearByStudentImportancy(corr = corr_tg_abs_ps, alpha=0.4, df = rd.data)\n",
    "LinearByStudentImportancy(corr = corr_tg_abs_ps, alpha=0.45, df = rd.data)"
   ]
  }
 ],
 "metadata": {
  "kernelspec": {
   "display_name": ".venv",
   "language": "python",
   "name": "python3"
  },
  "language_info": {
   "codemirror_mode": {
    "name": "ipython",
    "version": 3
   },
   "file_extension": ".py",
   "mimetype": "text/x-python",
   "name": "python",
   "nbconvert_exporter": "python",
   "pygments_lexer": "ipython3",
   "version": "3.13.2"
  }
 },
 "nbformat": 4,
 "nbformat_minor": 2
}
